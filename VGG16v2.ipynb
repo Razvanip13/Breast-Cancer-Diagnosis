{
 "cells": [
  {
   "cell_type": "markdown",
   "id": "4891d599",
   "metadata": {},
   "source": [
    "# VGG16v2 for Breast Cancer Diagnostic"
   ]
  },
  {
   "cell_type": "markdown",
   "id": "dc07f2a7",
   "metadata": {},
   "source": [
    "## Importing the libraries"
   ]
  },
  {
   "cell_type": "code",
   "execution_count": 8,
   "id": "d6132376",
   "metadata": {},
   "outputs": [],
   "source": [
    "import tensorflow as tf\n",
    "import matplotlib.pyplot as plt\n",
    "from keras.preprocessing.image import ImageDataGenerator\n",
    "from tensorflow.keras import datasets, layers, models, losses, Model"
   ]
  },
  {
   "cell_type": "markdown",
   "id": "d3de284d",
   "metadata": {},
   "source": [
    "## Loading data"
   ]
  },
  {
   "cell_type": "code",
   "execution_count": 9,
   "id": "51d6b3c9",
   "metadata": {},
   "outputs": [
    {
     "name": "stdout",
     "output_type": "stream",
     "text": [
      "Found 345 images belonging to 3 classes.\n"
     ]
    }
   ],
   "source": [
    "train_datagen = ImageDataGenerator(rescale = 1./255,\n",
    "                                   shear_range = 0.2,\n",
    "                                   zoom_range = 0.2,\n",
    "                                   horizontal_flip = True)\n",
    "training_set = train_datagen.flow_from_directory('BreastsData/training_set',\n",
    "                                                 target_size = (224, 224),\n",
    "                                                 batch_size = 32,\n",
    "                                                 class_mode = 'categorical')"
   ]
  },
  {
   "cell_type": "code",
   "execution_count": 10,
   "id": "2da7932c",
   "metadata": {},
   "outputs": [
    {
     "name": "stdout",
     "output_type": "stream",
     "text": [
      "Found 71 images belonging to 3 classes.\n"
     ]
    }
   ],
   "source": [
    "test_datagen = ImageDataGenerator(rescale = 1./255)\n",
    "test_set = test_datagen.flow_from_directory('BreastsData/test_set',\n",
    "                                            target_size = (224, 224),\n",
    "                                            batch_size = 32,\n",
    "                                            class_mode = 'categorical')"
   ]
  },
  {
   "cell_type": "markdown",
   "id": "1e646b54",
   "metadata": {},
   "source": [
    "## Building the model"
   ]
  },
  {
   "cell_type": "code",
   "execution_count": 11,
   "id": "f7f7ff86",
   "metadata": {},
   "outputs": [
    {
     "name": "stdout",
     "output_type": "stream",
     "text": [
      "Downloading data from https://storage.googleapis.com/tensorflow/keras-applications/vgg16/vgg16_weights_tf_dim_ordering_tf_kernels_notop.h5\n",
      "58892288/58889256 [==============================] - 6s 0us/step\n"
     ]
    }
   ],
   "source": [
    "# base_model = tf.keras.applications.ResNet152(weights = 'imagenet', include_top = False, input_shape = (224,224,3))\n",
    "base_model = tf.keras.applications.VGG16(\n",
    "    include_top=False,\n",
    "    weights=\"imagenet\",\n",
    "    input_shape=(224,224,3),\n",
    ")"
   ]
  },
  {
   "cell_type": "code",
   "execution_count": 12,
   "id": "630d9a2b",
   "metadata": {},
   "outputs": [],
   "source": [
    "for layer in base_model.layers:\n",
    "  layer.trainable = False"
   ]
  },
  {
   "cell_type": "code",
   "execution_count": 13,
   "id": "bb3e3f90",
   "metadata": {},
   "outputs": [],
   "source": [
    "x = layers.Flatten()(base_model.output)\n",
    "x = layers.Dense(1000, activation='relu')(x)\n",
    "predictions = layers.Dense(3, activation = 'softmax')(x)"
   ]
  },
  {
   "cell_type": "code",
   "execution_count": 14,
   "id": "f695ce24",
   "metadata": {},
   "outputs": [
    {
     "name": "stdout",
     "output_type": "stream",
     "text": [
      "Model: \"functional_1\"\n",
      "_________________________________________________________________\n",
      "Layer (type)                 Output Shape              Param #   \n",
      "=================================================================\n",
      "input_1 (InputLayer)         [(None, 224, 224, 3)]     0         \n",
      "_________________________________________________________________\n",
      "block1_conv1 (Conv2D)        (None, 224, 224, 64)      1792      \n",
      "_________________________________________________________________\n",
      "block1_conv2 (Conv2D)        (None, 224, 224, 64)      36928     \n",
      "_________________________________________________________________\n",
      "block1_pool (MaxPooling2D)   (None, 112, 112, 64)      0         \n",
      "_________________________________________________________________\n",
      "block2_conv1 (Conv2D)        (None, 112, 112, 128)     73856     \n",
      "_________________________________________________________________\n",
      "block2_conv2 (Conv2D)        (None, 112, 112, 128)     147584    \n",
      "_________________________________________________________________\n",
      "block2_pool (MaxPooling2D)   (None, 56, 56, 128)       0         \n",
      "_________________________________________________________________\n",
      "block3_conv1 (Conv2D)        (None, 56, 56, 256)       295168    \n",
      "_________________________________________________________________\n",
      "block3_conv2 (Conv2D)        (None, 56, 56, 256)       590080    \n",
      "_________________________________________________________________\n",
      "block3_conv3 (Conv2D)        (None, 56, 56, 256)       590080    \n",
      "_________________________________________________________________\n",
      "block3_pool (MaxPooling2D)   (None, 28, 28, 256)       0         \n",
      "_________________________________________________________________\n",
      "block4_conv1 (Conv2D)        (None, 28, 28, 512)       1180160   \n",
      "_________________________________________________________________\n",
      "block4_conv2 (Conv2D)        (None, 28, 28, 512)       2359808   \n",
      "_________________________________________________________________\n",
      "block4_conv3 (Conv2D)        (None, 28, 28, 512)       2359808   \n",
      "_________________________________________________________________\n",
      "block4_pool (MaxPooling2D)   (None, 14, 14, 512)       0         \n",
      "_________________________________________________________________\n",
      "block5_conv1 (Conv2D)        (None, 14, 14, 512)       2359808   \n",
      "_________________________________________________________________\n",
      "block5_conv2 (Conv2D)        (None, 14, 14, 512)       2359808   \n",
      "_________________________________________________________________\n",
      "block5_conv3 (Conv2D)        (None, 14, 14, 512)       2359808   \n",
      "_________________________________________________________________\n",
      "block5_pool (MaxPooling2D)   (None, 7, 7, 512)         0         \n",
      "_________________________________________________________________\n",
      "flatten (Flatten)            (None, 25088)             0         \n",
      "_________________________________________________________________\n",
      "dense (Dense)                (None, 1000)              25089000  \n",
      "_________________________________________________________________\n",
      "dense_1 (Dense)              (None, 3)                 3003      \n",
      "=================================================================\n",
      "Total params: 39,806,691\n",
      "Trainable params: 25,092,003\n",
      "Non-trainable params: 14,714,688\n",
      "_________________________________________________________________\n"
     ]
    }
   ],
   "source": [
    "model = Model(inputs = base_model.input, outputs = predictions)\n",
    "model.compile(optimizer='adam', loss='categorical_crossentropy', metrics=['accuracy',tf.keras.metrics.Precision()])\n",
    "model.summary()"
   ]
  },
  {
   "cell_type": "markdown",
   "id": "e26e89e3",
   "metadata": {},
   "source": [
    "## Fitting the model"
   ]
  },
  {
   "cell_type": "code",
   "execution_count": 15,
   "id": "c63bfc2f",
   "metadata": {},
   "outputs": [
    {
     "name": "stdout",
     "output_type": "stream",
     "text": [
      "Epoch 1/20\n",
      "11/11 [==============================] - 38s 3s/step - loss: 5.6809 - accuracy: 0.4725 - precision: 0.4704 - val_loss: 1.5477 - val_accuracy: 0.6901 - val_precision: 0.7424\n",
      "Epoch 2/20\n",
      "11/11 [==============================] - 40s 4s/step - loss: 1.3793 - accuracy: 0.7014 - precision: 0.7076 - val_loss: 0.8058 - val_accuracy: 0.7183 - val_precision: 0.7246\n",
      "Epoch 3/20\n",
      "11/11 [==============================] - 40s 4s/step - loss: 0.7400 - accuracy: 0.7739 - precision: 0.7755 - val_loss: 1.0769 - val_accuracy: 0.7746 - val_precision: 0.7746\n",
      "Epoch 4/20\n",
      "11/11 [==============================] - 40s 4s/step - loss: 0.4565 - accuracy: 0.8464 - precision: 0.8488 - val_loss: 0.6999 - val_accuracy: 0.7465 - val_precision: 0.7465\n",
      "Epoch 5/20\n",
      "11/11 [==============================] - 39s 4s/step - loss: 0.3735 - accuracy: 0.8841 - precision: 0.8841 - val_loss: 0.2903 - val_accuracy: 0.8451 - val_precision: 0.8451\n",
      "Epoch 6/20\n",
      "11/11 [==============================] - 43s 4s/step - loss: 0.1657 - accuracy: 0.9188 - precision: 0.9186 - val_loss: 0.3253 - val_accuracy: 0.8028 - val_precision: 0.8028\n",
      "Epoch 7/20\n",
      "11/11 [==============================] - 42s 4s/step - loss: 0.1294 - accuracy: 0.9478 - precision: 0.9478 - val_loss: 0.2995 - val_accuracy: 0.8028 - val_precision: 0.8028\n",
      "Epoch 8/20\n",
      "11/11 [==============================] - 46s 4s/step - loss: 0.1045 - accuracy: 0.9652 - precision: 0.9652 - val_loss: 0.3096 - val_accuracy: 0.8732 - val_precision: 0.8732\n",
      "Epoch 9/20\n",
      "11/11 [==============================] - 40s 4s/step - loss: 0.0928 - accuracy: 0.9739 - precision: 0.9739 - val_loss: 0.2222 - val_accuracy: 0.9014 - val_precision: 0.9000\n",
      "Epoch 10/20\n",
      "11/11 [==============================] - 40s 4s/step - loss: 0.0930 - accuracy: 0.9623 - precision: 0.9623 - val_loss: 0.2198 - val_accuracy: 0.8732 - val_precision: 0.8732\n",
      "Epoch 11/20\n",
      "11/11 [==============================] - 39s 4s/step - loss: 0.0631 - accuracy: 0.9884 - precision: 0.9884 - val_loss: 0.3130 - val_accuracy: 0.8732 - val_precision: 0.8732\n",
      "Epoch 12/20\n",
      "11/11 [==============================] - 40s 4s/step - loss: 0.0929 - accuracy: 0.9536 - precision: 0.9536 - val_loss: 0.2651 - val_accuracy: 0.8592 - val_precision: 0.8592\n",
      "Epoch 13/20\n",
      "11/11 [==============================] - 40s 4s/step - loss: 0.0942 - accuracy: 0.9565 - precision: 0.9565 - val_loss: 0.3949 - val_accuracy: 0.8732 - val_precision: 0.8732\n",
      "Epoch 14/20\n",
      "11/11 [==============================] - 40s 4s/step - loss: 0.0814 - accuracy: 0.9623 - precision: 0.9623 - val_loss: 0.3658 - val_accuracy: 0.8169 - val_precision: 0.8169\n",
      "Epoch 15/20\n",
      "11/11 [==============================] - 41s 4s/step - loss: 0.0533 - accuracy: 0.9797 - precision: 0.9797 - val_loss: 0.3607 - val_accuracy: 0.8169 - val_precision: 0.8169\n",
      "Epoch 16/20\n",
      "11/11 [==============================] - 39s 4s/step - loss: 0.0448 - accuracy: 0.9855 - precision: 0.9855 - val_loss: 0.3291 - val_accuracy: 0.8732 - val_precision: 0.8732\n",
      "Epoch 17/20\n",
      "11/11 [==============================] - 40s 4s/step - loss: 0.0425 - accuracy: 0.9855 - precision: 0.9855 - val_loss: 0.3456 - val_accuracy: 0.8592 - val_precision: 0.8592\n",
      "Epoch 18/20\n",
      "11/11 [==============================] - 41s 4s/step - loss: 0.0299 - accuracy: 0.9942 - precision: 0.9942 - val_loss: 0.4701 - val_accuracy: 0.8592 - val_precision: 0.8592\n",
      "Epoch 19/20\n",
      "11/11 [==============================] - 38s 3s/step - loss: 0.0468 - accuracy: 0.9855 - precision: 0.9855 - val_loss: 0.4303 - val_accuracy: 0.8451 - val_precision: 0.8451\n",
      "Epoch 20/20\n",
      "11/11 [==============================] - 41s 4s/step - loss: 0.0401 - accuracy: 0.9884 - precision: 0.9884 - val_loss: 0.4749 - val_accuracy: 0.8169 - val_precision: 0.8169\n"
     ]
    }
   ],
   "source": [
    "history = model.fit(x = training_set, validation_data = test_set, epochs = 20)"
   ]
  },
  {
   "cell_type": "markdown",
   "id": "4ab149d7",
   "metadata": {},
   "source": [
    "## Plotting the results"
   ]
  },
  {
   "cell_type": "code",
   "execution_count": 16,
   "id": "70255e50",
   "metadata": {},
   "outputs": [
    {
     "data": {
      "text/plain": [
       "<matplotlib.legend.Legend at 0x20c9c325b50>"
      ]
     },
     "execution_count": 16,
     "metadata": {},
     "output_type": "execute_result"
    },
    {
     "data": {
      "image/png": "[encoded data removed]",
      "text/plain": [
       "<Figure size 1080x1080 with 2 Axes>"
      ]
     },
     "metadata": {
      "needs_background": "light"
     },
     "output_type": "display_data"
    }
   ],
   "source": [
    "fig, axs = plt.subplots(2, 1, figsize=(15,15))\n",
    "\n",
    "axs[0].plot(history.history['loss'])\n",
    "axs[0].plot(history.history['val_loss'])\n",
    "axs[0].title.set_text('Training Loss vs Validation Loss')\n",
    "axs[0].set_xlabel('Epochs')\n",
    "axs[0].set_ylabel('Loss')\n",
    "axs[0].legend(['Train','Val'])\n",
    "\n",
    "axs[1].plot(history.history['accuracy'])\n",
    "axs[1].plot(history.history['val_accuracy'])\n",
    "axs[1].title.set_text('Training Accuracy vs Validation Accuracy')\n",
    "axs[1].set_xlabel('Epochs')\n",
    "axs[1].set_ylabel('Accuracy')\n",
    "axs[1].legend(['Train', 'Val'])"
   ]
  },
  {
   "cell_type": "markdown",
   "id": "d5e51075",
   "metadata": {},
   "source": [
    "## Making one prediction"
   ]
  },
  {
   "cell_type": "code",
   "execution_count": 17,
   "id": "d0b1152d",
   "metadata": {},
   "outputs": [],
   "source": [
    "import numpy as np\n",
    "from keras.preprocessing import image\n",
    "\n",
    "test_image = image.load_img('OnePrediction/cancer/5.jpg', target_size = (224, 224))\n",
    "test_image = image.img_to_array(test_image)\n",
    "test_image = np.expand_dims(test_image, axis = 0)\n",
    "result = model.predict(test_image)\n",
    "training_set.class_indices\n",
    "\n",
    "\n",
    "the_result = -1\n",
    "value=float('-inf')\n",
    "\n",
    "for i in range(len(result[0])):\n",
    "    if result[0][i]-value>0.00001: \n",
    "        the_result = i\n",
    "        value = result[0][i]\n",
    "\n",
    "if the_result == 0:\n",
    "    prediction = 'benign'\n",
    "elif the_result:\n",
    "    prediction = 'cancer'\n",
    "else: \n",
    "    prediction = 'normal'\n"
   ]
  },
  {
   "cell_type": "code",
   "execution_count": 18,
   "id": "34becef4",
   "metadata": {},
   "outputs": [
    {
     "name": "stdout",
     "output_type": "stream",
     "text": [
      "cancer\n"
     ]
    }
   ],
   "source": [
    "print(prediction)"
   ]
  }
 ],
 "metadata": {
  "kernelspec": {
   "display_name": "Python 3",
   "language": "python",
   "name": "python3"
  },
  "language_info": {
   "codemirror_mode": {
    "name": "ipython",
    "version": 3
   },
   "file_extension": ".py",
   "mimetype": "text/x-python",
   "name": "python",
   "nbconvert_exporter": "python",
   "pygments_lexer": "ipython3",
   "version": "3.8.8"
  }
 },
 "nbformat": 4,
 "nbformat_minor": 5
}
