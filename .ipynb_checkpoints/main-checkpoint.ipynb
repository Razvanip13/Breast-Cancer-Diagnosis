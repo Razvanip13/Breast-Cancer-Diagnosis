{
 "cells": [
  {
   "cell_type": "markdown",
   "metadata": {},
   "source": [
    "# Breast cancer diagnostic"
   ]
  },
  {
   "cell_type": "markdown",
   "metadata": {},
   "source": [
    "### Importing libraries"
   ]
  },
  {
   "cell_type": "code",
   "execution_count": 1,
   "metadata": {},
   "outputs": [
    {
     "name": "stdout",
     "output_type": "stream",
     "text": [
      "2.3.0\n",
      "D:\\Users\\razva\\anaconda3\\envs\\tf\\lib\\site-packages\\PIL\\Image.py\n"
     ]
    }
   ],
   "source": [
    "import tensorflow as tf\n",
    "from keras.preprocessing.image import ImageDataGenerator\n",
    "print(tf.__version__)\n",
    "\n",
    "from PIL import Image\n",
    "print(Image.__file__)"
   ]
  },
  {
   "cell_type": "code",
   "execution_count": 2,
   "metadata": {},
   "outputs": [],
   "source": [
    "import sys\n",
    "from PIL import Image\n",
    "sys.modules['Image'] = Image "
   ]
  },
  {
   "cell_type": "code",
   "execution_count": 3,
   "metadata": {},
   "outputs": [
    {
     "name": "stdout",
     "output_type": "stream",
     "text": [
      "D:\\Users\\razva\\anaconda3\\envs\\tf\\lib\\site-packages\\PIL\\Image.py\n"
     ]
    }
   ],
   "source": [
    "import Image\n",
    "print(Image.__file__)"
   ]
  },
  {
   "cell_type": "markdown",
   "metadata": {},
   "source": [
    "## Data Preprocessing"
   ]
  },
  {
   "cell_type": "markdown",
   "metadata": {},
   "source": [
    "### Training set"
   ]
  },
  {
   "cell_type": "code",
   "execution_count": 4,
   "metadata": {},
   "outputs": [
    {
     "name": "stdout",
     "output_type": "stream",
     "text": [
      "Found 345 images belonging to 3 classes.\n"
     ]
    }
   ],
   "source": [
    "train_datagen = ImageDataGenerator(rescale = 1./255,\n",
    "                                   shear_range = 0.2,\n",
    "                                   zoom_range = 0.2,\n",
    "                                   horizontal_flip = True)\n",
    "training_set = train_datagen.flow_from_directory('BreastsData/training_set',\n",
    "                                                 target_size = (160, 160),\n",
    "                                                 batch_size = 32,\n",
    "                                                 color_mode='grayscale',\n",
    "                                                 class_mode = 'categorical')"
   ]
  },
  {
   "cell_type": "markdown",
   "metadata": {},
   "source": [
    "### Test set"
   ]
  },
  {
   "cell_type": "code",
   "execution_count": 5,
   "metadata": {},
   "outputs": [
    {
     "name": "stdout",
     "output_type": "stream",
     "text": [
      "Found 71 images belonging to 3 classes.\n"
     ]
    }
   ],
   "source": [
    "test_datagen = ImageDataGenerator(rescale = 1./255)\n",
    "test_set = test_datagen.flow_from_directory('BreastsData/test_set',\n",
    "                                            target_size = (160, 160),\n",
    "                                            batch_size = 32,\n",
    "                                            color_mode='grayscale',\n",
    "                                            class_mode = 'categorical')"
   ]
  },
  {
   "cell_type": "markdown",
   "metadata": {},
   "source": [
    "## Building the CNN"
   ]
  },
  {
   "cell_type": "code",
   "execution_count": 6,
   "metadata": {},
   "outputs": [],
   "source": [
    "cnn = tf.keras.models.Sequential()"
   ]
  },
  {
   "cell_type": "markdown",
   "metadata": {},
   "source": [
    "### Convolution"
   ]
  },
  {
   "cell_type": "code",
   "execution_count": 7,
   "metadata": {},
   "outputs": [],
   "source": [
    "cnn.add(tf.keras.layers.Conv2D(filters=32, kernel_size=3, activation='relu', input_shape=[160, 160, 1]))"
   ]
  },
  {
   "cell_type": "markdown",
   "metadata": {},
   "source": [
    "### Pooling"
   ]
  },
  {
   "cell_type": "code",
   "execution_count": 8,
   "metadata": {},
   "outputs": [],
   "source": [
    "cnn.add(tf.keras.layers.MaxPool2D(pool_size=2, strides=2))"
   ]
  },
  {
   "cell_type": "markdown",
   "metadata": {},
   "source": [
    "### The second convolutional layer"
   ]
  },
  {
   "cell_type": "code",
   "execution_count": 9,
   "metadata": {},
   "outputs": [],
   "source": [
    "cnn.add(tf.keras.layers.Conv2D(filters=32, kernel_size=3, activation='relu'))\n",
    "cnn.add(tf.keras.layers.MaxPool2D(pool_size=2, strides=2))"
   ]
  },
  {
   "cell_type": "markdown",
   "metadata": {},
   "source": [
    "### The third convolutional layer"
   ]
  },
  {
   "cell_type": "code",
   "execution_count": 10,
   "metadata": {},
   "outputs": [],
   "source": [
    "cnn.add(tf.keras.layers.Conv2D(filters=32, kernel_size=3, activation='relu'))\n",
    "cnn.add(tf.keras.layers.MaxPool2D(pool_size=2, strides=2))"
   ]
  },
  {
   "cell_type": "markdown",
   "metadata": {},
   "source": [
    "## Flattening"
   ]
  },
  {
   "cell_type": "code",
   "execution_count": 11,
   "metadata": {},
   "outputs": [],
   "source": [
    "cnn.add(tf.keras.layers.Flatten())"
   ]
  },
  {
   "cell_type": "markdown",
   "metadata": {},
   "source": [
    "## Full connection with the ANN"
   ]
  },
  {
   "cell_type": "markdown",
   "metadata": {},
   "source": [
    "### The first Dense layer"
   ]
  },
  {
   "cell_type": "code",
   "execution_count": 12,
   "metadata": {},
   "outputs": [],
   "source": [
    "cnn.add(tf.keras.layers.Dense(units=128, activation='relu'))"
   ]
  },
  {
   "cell_type": "markdown",
   "metadata": {},
   "source": [
    "### The second Dense layer"
   ]
  },
  {
   "cell_type": "code",
   "execution_count": 13,
   "metadata": {},
   "outputs": [],
   "source": [
    "cnn.add(tf.keras.layers.Dense(units=128, activation='relu'))"
   ]
  },
  {
   "cell_type": "code",
   "execution_count": 14,
   "metadata": {},
   "outputs": [
    {
     "name": "stdout",
     "output_type": "stream",
     "text": [
      "Model: \"sequential\"\n",
      "_________________________________________________________________\n",
      "Layer (type)                 Output Shape              Param #   \n",
      "=================================================================\n",
      "conv2d (Conv2D)              (None, 158, 158, 32)      320       \n",
      "_________________________________________________________________\n",
      "max_pooling2d (MaxPooling2D) (None, 79, 79, 32)        0         \n",
      "_________________________________________________________________\n",
      "conv2d_1 (Conv2D)            (None, 77, 77, 32)        9248      \n",
      "_________________________________________________________________\n",
      "max_pooling2d_1 (MaxPooling2 (None, 38, 38, 32)        0         \n",
      "_________________________________________________________________\n",
      "conv2d_2 (Conv2D)            (None, 36, 36, 32)        9248      \n",
      "_________________________________________________________________\n",
      "max_pooling2d_2 (MaxPooling2 (None, 18, 18, 32)        0         \n",
      "_________________________________________________________________\n",
      "flatten (Flatten)            (None, 10368)             0         \n",
      "_________________________________________________________________\n",
      "dense (Dense)                (None, 128)               1327232   \n",
      "_________________________________________________________________\n",
      "dense_1 (Dense)              (None, 128)               16512     \n",
      "=================================================================\n",
      "Total params: 1,362,560\n",
      "Trainable params: 1,362,560\n",
      "Non-trainable params: 0\n",
      "_________________________________________________________________\n"
     ]
    }
   ],
   "source": [
    "cnn.summary()"
   ]
  },
  {
   "cell_type": "markdown",
   "metadata": {},
   "source": [
    "### Output Layer"
   ]
  },
  {
   "cell_type": "code",
   "execution_count": 15,
   "metadata": {},
   "outputs": [],
   "source": [
    "cnn.add(tf.keras.layers.Dense(units=3, activation='softmax'))"
   ]
  },
  {
   "cell_type": "markdown",
   "metadata": {},
   "source": [
    "## Training the CNN"
   ]
  },
  {
   "cell_type": "markdown",
   "metadata": {},
   "source": [
    "### Compiling the CNN"
   ]
  },
  {
   "cell_type": "code",
   "execution_count": 16,
   "metadata": {},
   "outputs": [],
   "source": [
    "cnn.compile(optimizer = 'adam', loss = 'categorical_crossentropy', metrics = ['accuracy',tf.keras.metrics.Precision()])"
   ]
  },
  {
   "cell_type": "code",
   "execution_count": 17,
   "metadata": {},
   "outputs": [
    {
     "name": "stdout",
     "output_type": "stream",
     "text": [
      "Epoch 1/50\n",
      "11/11 [==============================] - 8s 683ms/step - loss: 1.0680 - accuracy: 0.4290 - precision: 0.5510 - val_loss: 0.9962 - val_accuracy: 0.5634 - val_precision: 1.0000\n",
      "Epoch 2/50\n",
      "11/11 [==============================] - 7s 591ms/step - loss: 0.9729 - accuracy: 0.5043 - precision: 0.6558 - val_loss: 0.8988 - val_accuracy: 0.5915 - val_precision: 0.9565\n",
      "Epoch 3/50\n",
      "11/11 [==============================] - 6s 522ms/step - loss: 0.8875 - accuracy: 0.5681 - precision: 0.7312 - val_loss: 0.8832 - val_accuracy: 0.6056 - val_precision: 0.8261\n",
      "Epoch 4/50\n",
      "11/11 [==============================] - 4s 352ms/step - loss: 0.8222 - accuracy: 0.6087 - precision: 0.7215 - val_loss: 0.8362 - val_accuracy: 0.6338 - val_precision: 0.6552\n",
      "Epoch 5/50\n",
      "11/11 [==============================] - 4s 379ms/step - loss: 0.7920 - accuracy: 0.6377 - precision: 0.7246 - val_loss: 0.7463 - val_accuracy: 0.7042 - val_precision: 0.7407\n",
      "Epoch 6/50\n",
      "11/11 [==============================] - 4s 360ms/step - loss: 0.7853 - accuracy: 0.6551 - precision: 0.7302 - val_loss: 0.7915 - val_accuracy: 0.7042 - val_precision: 0.9032\n",
      "Epoch 7/50\n",
      "11/11 [==============================] - 4s 353ms/step - loss: 0.7406 - accuracy: 0.6899 - precision: 0.7711 - val_loss: 0.9376 - val_accuracy: 0.6197 - val_precision: 0.6364\n",
      "Epoch 8/50\n",
      "11/11 [==============================] - 4s 395ms/step - loss: 0.8587 - accuracy: 0.6116 - precision: 0.6830 - val_loss: 0.9711 - val_accuracy: 0.6056 - val_precision: 0.6232\n",
      "Epoch 9/50\n",
      "11/11 [==============================] - 4s 352ms/step - loss: 0.7801 - accuracy: 0.6493 - precision: 0.7280 - val_loss: 0.6923 - val_accuracy: 0.6901 - val_precision: 0.7797\n",
      "Epoch 10/50\n",
      "11/11 [==============================] - 4s 361ms/step - loss: 0.6928 - accuracy: 0.6667 - precision: 0.7439 - val_loss: 0.5941 - val_accuracy: 0.7606 - val_precision: 0.7833\n",
      "Epoch 11/50\n",
      "11/11 [==============================] - 4s 364ms/step - loss: 0.5809 - accuracy: 0.7478 - precision: 0.7959 - val_loss: 0.6700 - val_accuracy: 0.7183 - val_precision: 0.7857\n",
      "Epoch 12/50\n",
      "11/11 [==============================] - 4s 372ms/step - loss: 0.5777 - accuracy: 0.7420 - precision: 0.7897 - val_loss: 0.4639 - val_accuracy: 0.8028 - val_precision: 0.8333\n",
      "Epoch 13/50\n",
      "11/11 [==============================] - 4s 393ms/step - loss: 0.5129 - accuracy: 0.7681 - precision: 0.8038 - val_loss: 0.5814 - val_accuracy: 0.7324 - val_precision: 0.7536\n",
      "Epoch 14/50\n",
      "11/11 [==============================] - 4s 368ms/step - loss: 0.5377 - accuracy: 0.7565 - precision: 0.7737 - val_loss: 0.5268 - val_accuracy: 0.8310 - val_precision: 0.8594\n",
      "Epoch 15/50\n",
      "11/11 [==============================] - 4s 358ms/step - loss: 0.4270 - accuracy: 0.8435 - precision: 0.8673 - val_loss: 1.0134 - val_accuracy: 0.5915 - val_precision: 0.6032\n",
      "Epoch 16/50\n",
      "11/11 [==============================] - 4s 354ms/step - loss: 0.4345 - accuracy: 0.8232 - precision: 0.8410 - val_loss: 0.4181 - val_accuracy: 0.8169 - val_precision: 0.8261\n",
      "Epoch 17/50\n",
      "11/11 [==============================] - 4s 357ms/step - loss: 0.4112 - accuracy: 0.7942 - precision: 0.8090 - val_loss: 0.4843 - val_accuracy: 0.8169 - val_precision: 0.8333\n",
      "Epoch 18/50\n",
      "11/11 [==============================] - 4s 353ms/step - loss: 0.3592 - accuracy: 0.8406 - precision: 0.8545 - val_loss: 0.4130 - val_accuracy: 0.8169 - val_precision: 0.8235\n",
      "Epoch 19/50\n",
      "11/11 [==============================] - 4s 349ms/step - loss: 0.3469 - accuracy: 0.8435 - precision: 0.8487 - val_loss: 0.5045 - val_accuracy: 0.7746 - val_precision: 0.7826\n",
      "Epoch 20/50\n",
      "11/11 [==============================] - 4s 348ms/step - loss: 0.2911 - accuracy: 0.8841 - precision: 0.8850 - val_loss: 0.5070 - val_accuracy: 0.7746 - val_precision: 0.7826\n",
      "Epoch 21/50\n",
      "11/11 [==============================] - 4s 374ms/step - loss: 0.3132 - accuracy: 0.8725 - precision: 0.8772 - val_loss: 0.4462 - val_accuracy: 0.7606 - val_precision: 0.7681\n",
      "Epoch 22/50\n",
      "11/11 [==============================] - 4s 368ms/step - loss: 0.2938 - accuracy: 0.8783 - precision: 0.8958 - val_loss: 0.4762 - val_accuracy: 0.7887 - val_precision: 0.7887\n",
      "Epoch 23/50\n",
      "11/11 [==============================] - 4s 403ms/step - loss: 0.2861 - accuracy: 0.8783 - precision: 0.8882 - val_loss: 0.5673 - val_accuracy: 0.8028 - val_precision: 0.8028\n",
      "Epoch 24/50\n",
      "11/11 [==============================] - 4s 374ms/step - loss: 0.2510 - accuracy: 0.8957 - precision: 0.8950 - val_loss: 0.5747 - val_accuracy: 0.7746 - val_precision: 0.7826\n",
      "Epoch 25/50\n",
      "11/11 [==============================] - 4s 352ms/step - loss: 0.2859 - accuracy: 0.8812 - precision: 0.8827 - val_loss: 0.6246 - val_accuracy: 0.7887 - val_precision: 0.7887\n",
      "Epoch 26/50\n",
      "11/11 [==============================] - 4s 349ms/step - loss: 0.3272 - accuracy: 0.8812 - precision: 0.8824 - val_loss: 0.4973 - val_accuracy: 0.7746 - val_precision: 0.8088\n",
      "Epoch 27/50\n",
      "11/11 [==============================] - 4s 348ms/step - loss: 0.2591 - accuracy: 0.8812 - precision: 0.8912 - val_loss: 0.5606 - val_accuracy: 0.8310 - val_precision: 0.8310\n",
      "Epoch 28/50\n",
      "11/11 [==============================] - 4s 355ms/step - loss: 0.2190 - accuracy: 0.9072 - precision: 0.9094 - val_loss: 0.5856 - val_accuracy: 0.8028 - val_precision: 0.8028\n",
      "Epoch 29/50\n",
      "11/11 [==============================] - 4s 350ms/step - loss: 0.2132 - accuracy: 0.9217 - precision: 0.9296 - val_loss: 0.7252 - val_accuracy: 0.8169 - val_precision: 0.8169\n",
      "Epoch 30/50\n",
      "11/11 [==============================] - 4s 358ms/step - loss: 0.1673 - accuracy: 0.9420 - precision: 0.9420 - val_loss: 0.4984 - val_accuracy: 0.8732 - val_precision: 0.8732\n",
      "Epoch 31/50\n",
      "11/11 [==============================] - 4s 345ms/step - loss: 0.2124 - accuracy: 0.9101 - precision: 0.9155 - val_loss: 0.7672 - val_accuracy: 0.8169 - val_precision: 0.8169\n",
      "Epoch 32/50\n",
      "11/11 [==============================] - 4s 344ms/step - loss: 0.2333 - accuracy: 0.8957 - precision: 0.8980 - val_loss: 0.6430 - val_accuracy: 0.8451 - val_precision: 0.8451\n",
      "Epoch 33/50\n",
      "11/11 [==============================] - 4s 344ms/step - loss: 0.2328 - accuracy: 0.9072 - precision: 0.9123 - val_loss: 0.5956 - val_accuracy: 0.8028 - val_precision: 0.8028\n",
      "Epoch 34/50\n",
      "11/11 [==============================] - 4s 347ms/step - loss: 0.1998 - accuracy: 0.9217 - precision: 0.9296 - val_loss: 0.5633 - val_accuracy: 0.8873 - val_precision: 0.8873\n",
      "Epoch 35/50\n",
      "11/11 [==============================] - 4s 343ms/step - loss: 0.1933 - accuracy: 0.9130 - precision: 0.9238 - val_loss: 0.5078 - val_accuracy: 0.8310 - val_precision: 0.8310\n",
      "Epoch 36/50\n",
      "11/11 [==============================] - 4s 353ms/step - loss: 0.1486 - accuracy: 0.9478 - precision: 0.9478 - val_loss: 0.6268 - val_accuracy: 0.8592 - val_precision: 0.8592\n",
      "Epoch 37/50\n",
      "11/11 [==============================] - 4s 356ms/step - loss: 0.1391 - accuracy: 0.9507 - precision: 0.9534 - val_loss: 0.5499 - val_accuracy: 0.8592 - val_precision: 0.8592\n",
      "Epoch 38/50\n",
      "11/11 [==============================] - 5s 429ms/step - loss: 0.1419 - accuracy: 0.9362 - precision: 0.9390 - val_loss: 0.8060 - val_accuracy: 0.8451 - val_precision: 0.8451\n",
      "Epoch 39/50\n",
      "11/11 [==============================] - 4s 385ms/step - loss: 0.1653 - accuracy: 0.9217 - precision: 0.9217 - val_loss: 0.4900 - val_accuracy: 0.8732 - val_precision: 0.8857\n",
      "Epoch 40/50\n",
      "11/11 [==============================] - 4s 347ms/step - loss: 0.1681 - accuracy: 0.9420 - precision: 0.9444 - val_loss: 0.4407 - val_accuracy: 0.8732 - val_precision: 0.8732\n",
      "Epoch 41/50\n",
      "11/11 [==============================] - 4s 346ms/step - loss: 0.1186 - accuracy: 0.9536 - precision: 0.9536 - val_loss: 0.6863 - val_accuracy: 0.8169 - val_precision: 0.8169\n",
      "Epoch 42/50\n",
      "11/11 [==============================] - 4s 346ms/step - loss: 0.1300 - accuracy: 0.9565 - precision: 0.9592 - val_loss: 0.4698 - val_accuracy: 0.8592 - val_precision: 0.8592\n",
      "Epoch 43/50\n",
      "11/11 [==============================] - 4s 344ms/step - loss: 0.1348 - accuracy: 0.9478 - precision: 0.9532 - val_loss: 0.5394 - val_accuracy: 0.8592 - val_precision: 0.8592\n",
      "Epoch 44/50\n",
      "11/11 [==============================] - 4s 347ms/step - loss: 0.1249 - accuracy: 0.9594 - precision: 0.9591 - val_loss: 0.7121 - val_accuracy: 0.8451 - val_precision: 0.8451\n"
     ]
    },
    {
     "name": "stdout",
     "output_type": "stream",
     "text": [
      "Epoch 45/50\n",
      "11/11 [==============================] - 4s 354ms/step - loss: 0.1743 - accuracy: 0.9304 - precision: 0.9331 - val_loss: 0.6156 - val_accuracy: 0.8169 - val_precision: 0.8143\n",
      "Epoch 46/50\n",
      "11/11 [==============================] - 4s 349ms/step - loss: 0.1336 - accuracy: 0.9391 - precision: 0.9417 - val_loss: 0.6237 - val_accuracy: 0.8451 - val_precision: 0.8451\n",
      "Epoch 47/50\n",
      "11/11 [==============================] - 4s 346ms/step - loss: 0.0963 - accuracy: 0.9768 - precision: 0.9767 - val_loss: 0.7342 - val_accuracy: 0.8592 - val_precision: 0.8592\n",
      "Epoch 48/50\n",
      "11/11 [==============================] - 4s 351ms/step - loss: 0.1098 - accuracy: 0.9623 - precision: 0.9623 - val_loss: 0.6763 - val_accuracy: 0.8169 - val_precision: 0.8169\n",
      "Epoch 49/50\n",
      "11/11 [==============================] - 4s 346ms/step - loss: 0.0660 - accuracy: 0.9884 - precision: 0.9913 - val_loss: 0.7535 - val_accuracy: 0.8310 - val_precision: 0.8429\n",
      "Epoch 50/50\n",
      "11/11 [==============================] - 4s 347ms/step - loss: 0.2619 - accuracy: 0.9130 - precision: 0.9130 - val_loss: 0.4836 - val_accuracy: 0.8873 - val_precision: 0.8873\n"
     ]
    },
    {
     "data": {
      "text/plain": [
       "<tensorflow.python.keras.callbacks.History at 0x18cbafca910>"
      ]
     },
     "execution_count": 17,
     "metadata": {},
     "output_type": "execute_result"
    }
   ],
   "source": [
    "history = cnn.fit(x = training_set, validation_data = test_set, epochs = 50)"
   ]
  },
  {
   "cell_type": "code",
   "execution_count": 19,
   "metadata": {},
   "outputs": [
    {
     "ename": "AttributeError",
     "evalue": "'NoneType' object has no attribute 'history'",
     "output_type": "error",
     "traceback": [
      "\u001b[1;31m---------------------------------------------------------------------------\u001b[0m",
      "\u001b[1;31mAttributeError\u001b[0m                            Traceback (most recent call last)",
      "\u001b[1;32m<ipython-input-19-6f6c22b8819e>\u001b[0m in \u001b[0;36m<module>\u001b[1;34m\u001b[0m\n\u001b[0;32m      3\u001b[0m \u001b[0mfig\u001b[0m\u001b[1;33m,\u001b[0m \u001b[0maxs\u001b[0m \u001b[1;33m=\u001b[0m \u001b[0mplt\u001b[0m\u001b[1;33m.\u001b[0m\u001b[0msubplots\u001b[0m\u001b[1;33m(\u001b[0m\u001b[1;36m2\u001b[0m\u001b[1;33m,\u001b[0m \u001b[1;36m1\u001b[0m\u001b[1;33m,\u001b[0m \u001b[0mfigsize\u001b[0m\u001b[1;33m=\u001b[0m\u001b[1;33m(\u001b[0m\u001b[1;36m15\u001b[0m\u001b[1;33m,\u001b[0m\u001b[1;36m15\u001b[0m\u001b[1;33m)\u001b[0m\u001b[1;33m)\u001b[0m\u001b[1;33m\u001b[0m\u001b[1;33m\u001b[0m\u001b[0m\n\u001b[0;32m      4\u001b[0m \u001b[1;33m\u001b[0m\u001b[0m\n\u001b[1;32m----> 5\u001b[1;33m \u001b[0maxs\u001b[0m\u001b[1;33m[\u001b[0m\u001b[1;36m0\u001b[0m\u001b[1;33m]\u001b[0m\u001b[1;33m.\u001b[0m\u001b[0mplot\u001b[0m\u001b[1;33m(\u001b[0m\u001b[0mhistory\u001b[0m\u001b[1;33m.\u001b[0m\u001b[0mhistory\u001b[0m\u001b[1;33m[\u001b[0m\u001b[1;34m'loss'\u001b[0m\u001b[1;33m]\u001b[0m\u001b[1;33m)\u001b[0m\u001b[1;33m\u001b[0m\u001b[1;33m\u001b[0m\u001b[0m\n\u001b[0m\u001b[0;32m      6\u001b[0m \u001b[0maxs\u001b[0m\u001b[1;33m[\u001b[0m\u001b[1;36m0\u001b[0m\u001b[1;33m]\u001b[0m\u001b[1;33m.\u001b[0m\u001b[0mplot\u001b[0m\u001b[1;33m(\u001b[0m\u001b[0mhistory\u001b[0m\u001b[1;33m.\u001b[0m\u001b[0mhistory\u001b[0m\u001b[1;33m[\u001b[0m\u001b[1;34m'val_loss'\u001b[0m\u001b[1;33m]\u001b[0m\u001b[1;33m)\u001b[0m\u001b[1;33m\u001b[0m\u001b[1;33m\u001b[0m\u001b[0m\n\u001b[0;32m      7\u001b[0m \u001b[0maxs\u001b[0m\u001b[1;33m[\u001b[0m\u001b[1;36m0\u001b[0m\u001b[1;33m]\u001b[0m\u001b[1;33m.\u001b[0m\u001b[0mtitle\u001b[0m\u001b[1;33m.\u001b[0m\u001b[0mset_text\u001b[0m\u001b[1;33m(\u001b[0m\u001b[1;34m'Training Loss vs Validation Loss'\u001b[0m\u001b[1;33m)\u001b[0m\u001b[1;33m\u001b[0m\u001b[1;33m\u001b[0m\u001b[0m\n",
      "\u001b[1;31mAttributeError\u001b[0m: 'NoneType' object has no attribute 'history'"
     ]
    },
    {
     "data": {
      "image/png": "[encoded data removed]",
      "text/plain": [
       "<Figure size 1080x1080 with 2 Axes>"
      ]
     },
     "metadata": {
      "needs_background": "light"
     },
     "output_type": "display_data"
    }
   ],
   "source": [
    "import matplotlib.pyplot as plt\n",
    "\n",
    "fig, axs = plt.subplots(2, 1, figsize=(15,15))\n",
    "\n",
    "axs[0].plot(history.history['loss'])\n",
    "axs[0].plot(history.history['val_loss'])\n",
    "axs[0].title.set_text('Training Loss vs Validation Loss')\n",
    "axs[0].set_xlabel('Epochs')\n",
    "axs[0].set_ylabel('Loss')\n",
    "axs[0].legend(['Train','Val'])\n",
    "\n",
    "axs[1].plot(history.history['accuracy'])\n",
    "axs[1].plot(history.history['val_accuracy'])\n",
    "axs[1].title.set_text('Training Accuracy vs Validation Accuracy')\n",
    "axs[1].set_xlabel('Epochs')\n",
    "axs[1].set_ylabel('Accuracy')\n",
    "axs[1].legend(['Train', 'Val'])"
   ]
  },
  {
   "cell_type": "code",
   "execution_count": null,
   "metadata": {},
   "outputs": [],
   "source": [
    "training_set.class_indices"
   ]
  },
  {
   "cell_type": "markdown",
   "metadata": {},
   "source": [
    "# Making one prediction\n"
   ]
  },
  {
   "cell_type": "code",
   "execution_count": null,
   "metadata": {},
   "outputs": [],
   "source": [
    "import numpy as np\n",
    "from keras.preprocessing import image\n",
    "\n",
    "test_image = image.load_img('BreastsData/test_set/cancer/c30204.png', target_size = (160, 160),color_mode='grayscale')\n",
    "test_image = image.img_to_array(test_image)\n",
    "test_image = np.expand_dims(test_image, axis = 0)\n",
    "result = cnn.predict(test_image)\n",
    "training_set.class_indices\n",
    "\n",
    "\n",
    "the_result = -1\n",
    "value=float('-inf')\n",
    "\n",
    "for i in range(len(result[0])):  \n",
    "    if result[0][i]-value>0.00001: \n",
    "        the_result = i\n",
    "        value = result[0][i]\n",
    "\n",
    "if the_result == 0:\n",
    "    prediction = 'benign'\n",
    "elif the_result:\n",
    "    prediction = 'cancer'\n",
    "else: \n",
    "    prediction = 'normal'\n",
    "    "
   ]
  },
  {
   "cell_type": "code",
   "execution_count": null,
   "metadata": {},
   "outputs": [],
   "source": [
    "print(prediction)"
   ]
  },
  {
   "cell_type": "code",
   "execution_count": null,
   "metadata": {},
   "outputs": [],
   "source": []
  }
 ],
 "metadata": {
  "kernelspec": {
   "display_name": "Python 3",
   "language": "python",
   "name": "python3"
  },
  "language_info": {
   "codemirror_mode": {
    "name": "ipython",
    "version": 3
   },
   "file_extension": ".py",
   "mimetype": "text/x-python",
   "name": "python",
   "nbconvert_exporter": "python",
   "pygments_lexer": "ipython3",
   "version": "3.8.8"
  },
  "metadata": {
   "interpreter": {
    "hash": "afe63f8c2ad5156b01cb7ee1d2b9911f02fc2046f8456cd4e9e5e6fe6e9acd40"
   }
  }
 },
 "nbformat": 4,
 "nbformat_minor": 2
}
